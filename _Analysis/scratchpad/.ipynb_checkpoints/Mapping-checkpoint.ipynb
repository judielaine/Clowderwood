{
 "cells": [
  {
   "cell_type": "markdown",
   "metadata": {},
   "source": [
    "# Introduction"
   ]
  },
  {
   "cell_type": "code",
   "execution_count": null,
   "metadata": {},
   "outputs": [],
   "source": []
  },
  {
   "cell_type": "markdown",
   "metadata": {},
   "source": [
    "# Initialization"
   ]
  },
  {
   "cell_type": "code",
   "execution_count": 1,
   "metadata": {},
   "outputs": [],
   "source": [
    "# Libraries\n",
    "import ipyleaflet as leaf\n",
    "import pandas as pd"
   ]
  },
  {
   "cell_type": "code",
   "execution_count": 2,
   "metadata": {},
   "outputs": [],
   "source": [
    "# Configuration\n",
    "major = 0\n",
    "minor = 0\n",
    "micro = 0\n",
    "self = \"Mapping.ipynb\"\n",
    "rpath = \"~/Documents/ClowderwoodPublic/Clowderwood/experiments\""
   ]
  },
  {
   "cell_type": "markdown",
   "metadata": {},
   "source": [
    "# GIS data"
   ]
  },
  {
   "cell_type": "code",
   "execution_count": 14,
   "metadata": {},
   "outputs": [],
   "source": [
    "# Point data  \n",
    "# From 2019 aerial imagery via Chatham County Land Records Viewer\n",
    "addressPt = (35.766182, -79.188860)\n",
    "septicHatchPt = (35.766193, -79.189029)\n",
    "wellPt = (35.766035, -79.188602)"
   ]
  },
  {
   "cell_type": "code",
   "execution_count": 149,
   "metadata": {},
   "outputs": [],
   "source": [
    "# Parcel\n",
    "# Full AKPAR\t0066619\n",
    "# In \"Chatham County - Website Parcels\" our parcel is OBJECTID 14442,\n",
    "# but ended up using ownerID.\n",
    "\n",
    "webParcelQuery = \"https://gisservices.chathamcountync.gov/opendataagol\"+\\\n",
    "    \"/rest/services/Cadastral/Chatham_WebsiteParcels/MapServer/0/query\"+\\\n",
    "    \"?where=OWNER_ID%20%3D%20'1356531'&outFields=OBJECTID,Shape,Shape_\"+\\\n",
    "    \"Length,Shape_Area,PIN,BILLING_1,BILLING_2,SITE_ADDR,DEED_BOOK,DEE\"+\\\n",
    "    \"D_PAGE,DEED_YEAR,DEED_ACRES,PLAT_BOOK,PLAT_PAGE,LEGAL_DESC,LAND_F\"+\\\n",
    "    \"MV,IMPROV_FMV,TOTAL_FMV,CurrentOwners,DEED_NAME,OwnerOfRecord,OWN\"+\\\n",
    "    \"ER_ID,AKPAR&outSR=4326&f=json\"\n"
   ]
  },
  {
   "cell_type": "markdown",
   "metadata": {},
   "source": [
    "# Experimenting"
   ]
  },
  {
   "cell_type": "code",
   "execution_count": 146,
   "metadata": {
    "code_folding": [
     0
    ]
   },
   "outputs": [],
   "source": [
    "# Changing basemaps\n",
    "# https://ipyleaflet.readthedocs.io/en/latest/api_reference/basemaps.html\n",
    "\n",
    "mDefault = leaf.Map(center=addressPt, zoom=20)\n",
    "mOpen = leaf.Map(basemap=leaf.basemaps.OpenStreetMap.HOT,center=addressPt, zoom=20)\n",
    "mTopo = leaf.Map(basemap=leaf.basemaps.OpenTopoMap,center=addressPt, zoom=17)\n",
    "mEsriIm = leaf.Map(basemap=leaf.basemaps.Esri.WorldImagery,center=addressPt, zoom=20)\n",
    "mNasaTC = leaf.Map(basemap=leaf.basemaps.NASAGIBS.ModisAquaTrueColorCR,\n",
    "                   center=addressPt, zoom=9)\n",
    "\n",
    "# you can use another provider creating your own TileLayer layer.\n",
    "\n",
    "m = mDefault"
   ]
  },
  {
   "cell_type": "code",
   "execution_count": 147,
   "metadata": {},
   "outputs": [
    {
     "data": {
      "application/vnd.jupyter.widget-view+json": {
       "model_id": "b0515edb9a25404fa9650b7b10c0e28d",
       "version_major": 2,
       "version_minor": 0
      },
      "text/plain": [
       "Map(center=[35.766182, -79.18886], controls=(ZoomControl(options=['position', 'zoom_in_text', 'zoom_in_title',…"
      ]
     },
     "metadata": {},
     "output_type": "display_data"
    }
   ],
   "source": [
    "# Known points map\n",
    "# icons from https://fontawesome.com/v4.7.0/icons/\n",
    "houseIcon = leaf.AwesomeIcon(\n",
    "    name='home',\n",
    "    marker_color='gray',\n",
    "    icon_color='white')\n",
    "freshWaterIcon = leaf.AwesomeIcon(\n",
    "    name='tint',\n",
    "    marker_color='blue',\n",
    "    icon_color='white')\n",
    "blackWaterIcon = leaf.AwesomeIcon(\n",
    "    name='tint',\n",
    "    marker_color='black',\n",
    "    icon_color='white')\n",
    "\n",
    "# House center point\n",
    "addressMkr = leaf.Marker(icon=houseIcon, name=\"Address point\",\n",
    "                         location=addressPt, draggable=False)\n",
    "m.add_layer(addressMkr);\n",
    "\n",
    "# Water features\n",
    "septicHatchMkr = leaf.Marker(icon=blackWaterIcon,\n",
    "                             location=septicHatchPt, draggable=False)\n",
    "wellMkr = leaf.Marker(icon=freshWaterIcon, \n",
    "                      location=wellPt, draggable=False)\n",
    "waterFeatures = leaf.MarkerCluster(\n",
    "    markers=(wellMkr, septicHatchMkr),\n",
    "    name=\"Water features\"\n",
    ")\n",
    "m.add_layer(waterFeatures);\n",
    "\n",
    "display(m)"
   ]
  },
  {
   "cell_type": "code",
   "execution_count": 135,
   "metadata": {},
   "outputs": [
    {
     "data": {
      "application/vnd.jupyter.widget-view+json": {
       "model_id": "45ef76edc15a464599286fc3c1bd7d58",
       "version_major": 2,
       "version_minor": 0
      },
      "text/plain": [
       "Map(bottom=26406690.0, center=[35.766182, -79.18886], controls=(ZoomControl(options=['position', 'zoom_in_text…"
      ]
     },
     "metadata": {},
     "output_type": "display_data"
    }
   ],
   "source": [
    "# Explorable point map\n",
    "\n",
    "initPt = (35.7667,-79.1895)\n",
    "exploreMkr = leaf.Marker(location=initPt,name=\"Draggable point\")\n",
    "m.add_layer(exploreMkr);\n",
    "\n",
    "m.add_control(leaf.LayersControl(position='topright'))\n",
    "\n",
    "display(m)"
   ]
  },
  {
   "cell_type": "markdown",
   "metadata": {
    "variables": {
     "exploreMkr.location": "[35.76603671537724, -79.18886840343477]"
    }
   },
   "source": [
    "TODO make dynamic.\n",
    "\n",
    "You've moved the marker to {{exploreMkr.location}}."
   ]
  },
  {
   "cell_type": "code",
   "execution_count": 139,
   "metadata": {},
   "outputs": [],
   "source": [
    "m.save('MapExploration.html', title='Clowderwood')"
   ]
  },
  {
   "cell_type": "code",
   "execution_count": 145,
   "metadata": {},
   "outputs": [],
   "source": [
    "m.clear_layers()"
   ]
  },
  {
   "cell_type": "code",
   "execution_count": null,
   "metadata": {},
   "outputs": [],
   "source": []
  }
 ],
 "metadata": {
  "kernelspec": {
   "display_name": "Python 3",
   "language": "python",
   "name": "python3"
  },
  "language_info": {
   "codemirror_mode": {
    "name": "ipython",
    "version": 3
   },
   "file_extension": ".py",
   "mimetype": "text/x-python",
   "name": "python",
   "nbconvert_exporter": "python",
   "pygments_lexer": "ipython3",
   "version": "3.7.4"
  }
 },
 "nbformat": 4,
 "nbformat_minor": 2
}
