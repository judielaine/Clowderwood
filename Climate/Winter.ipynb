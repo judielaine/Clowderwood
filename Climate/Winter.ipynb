{
 "cells": [
  {
   "cell_type": "markdown",
   "metadata": {},
   "source": [
    "# Accumulated Winter Season Severity Index (AWSSI)\n",
    "https://mrcc.illinois.edu/research/awssi/indexAwssi.jsp\n",
    "\n",
    "http://www.skyviewweather.com/learning/how-to-measure-snow/"
   ]
  },
  {
   "cell_type": "code",
   "execution_count": null,
   "metadata": {},
   "outputs": [],
   "source": [
    "# Check for Raleigh summary data, if not up to date for this year minus one, fetch again\n",
    "\n",
    "# Don't see how to pull data down automagically"
   ]
  },
  {
   "cell_type": "code",
   "execution_count": null,
   "metadata": {},
   "outputs": [],
   "source": [
    "# create scoring map(s) from AWSSI\n",
    "# various/AWSSI-jamc-d-14-0217_1-t2.png from https://journals.ametsoc.org/view-large/9248782"
   ]
  },
  {
   "cell_type": "code",
   "execution_count": null,
   "metadata": {},
   "outputs": [],
   "source": [
    "# create scoring maps(s) from pAWSSI\n",
    "\n",
    "\n",
    "#t_b = \n",
    "\n",
    "\n",
    "Both Tb and Cm can vary seasonally and by location; in this study, the same values are applied across all locations, with Tb and Cm both varying seasonally with changes in the length of daylight and the solar angle (Table 3)."
   ]
  },
  {
   "cell_type": "code",
   "execution_count": null,
   "metadata": {},
   "outputs": [],
   "source": [
    "# pAWSSI\n",
    "\n",
    "def DailyProxySnowFall():\n",
    "    ```\n",
    "    avgT\n",
    "    maxT\n",
    "    minT\n",
    "    TUnit\n",
    "    P\n",
    "    pUnit\n",
    "    ```\n",
    "    # import math\n",
    "    \n",
    "    # Verify units understood and convert to imperial\n",
    "    # * normalize input by case, strip punct\n",
    "    \n",
    "    \n",
    "    # Classify precipitation as classP\n",
    "    # light precipitation of 0.01–0.06 in. (0.25–1.52 mm), \n",
    "    # moderate precipitation of 0.07–0.42 in. (1.78–10.67 mm), \n",
    "    # heavy precipitation of 0.43 to 1.49 in. (10.92–37.85 mm)\n",
    "    # heaviest 1.50 in. (38.10 mm) or greater\n",
    "    \n",
    "    # Classify average temperature as classT\n",
    "    # Look for rounding practice that rounds 27.5 to 27 \n",
    "    # https://realpython.com/python-rounding/#rounding-half-down\n",
    "    # cold  27.5°F (−2.5°C) and lower\n",
    "    # mild  28°F (−2.2°C) or higher\n",
    "#23456789*123456789*123456789*123456789*123456789*123456789*123456789*12\n",
    "    delT = maxT - minT\n",
    "    # Light cold\n",
    "    sf =  0.259 + 15.413*P - 0.007*(avgT+20)\n",
    "    # Moderate cold\n",
    "    sf =  2.081 + 12.331*P - 0.031*(avgT+20) - 0.186*sqrt(delT)\n",
    "    # Heavy cold \n",
    "    sf = 19.237 +  7.266*P - 0.346*(avgT+20) - 0.245*delT - 3.3\n",
    "    # Heaviest cold\n",
    "    sf = 19.237 +  7.266*P - 0.346*(avgT+20) - 0.245*delT - 3.8\n",
    "\n",
    "    # Light mild\n",
    "    sf =  0.551 +  5.017*P - 0.014*maxT\n",
    "    # Moderate, heavy, & heaviest mild\n",
    "    sf = -3.563 + 4.346*sqrt(P) + 3969.927/(maxT*maxT)\n",
    "    \n",
    "    # c_m degree-day coefficient in °F^-1\n",
    "    # t_b base temperature °F\n",
    "    # | date           | t_b | c_m  | \n",
    "    # | 1 Jul - 31 Nov | 32  | 0.30 |\n",
    "    # | 1 Dec - 15 Jan | 25  | 0.25 |\n",
    "    # | 16 Jan - 9 Feb | 23  | 0.25 |\n",
    "    # | 10 Feb - 6 Mar | 30  | 0.25 |\n",
    "    # | 7 Mar - 30 Jun | 30  | 0.30 |\n",
    "    \n",
    "    \n",
    "    melt = c_m * (avgT - t_b)\n",
    "    "
   ]
  }
 ],
 "metadata": {
  "kernelspec": {
   "display_name": "Python 3",
   "language": "python",
   "name": "python3"
  },
  "language_info": {
   "codemirror_mode": {
    "name": "ipython",
    "version": 3
   },
   "file_extension": ".py",
   "mimetype": "text/x-python",
   "name": "python",
   "nbconvert_exporter": "python",
   "pygments_lexer": "ipython3",
   "version": "3.7.4"
  }
 },
 "nbformat": 4,
 "nbformat_minor": 2
}
