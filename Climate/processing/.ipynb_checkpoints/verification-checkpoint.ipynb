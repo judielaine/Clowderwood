{
 "cells": [
  {
   "cell_type": "code",
   "execution_count": null,
   "metadata": {},
   "outputs": [],
   "source": [
    "import json\n",
    "import os\n",
    "import pandas as pd\n"
   ]
  },
  {
   "cell_type": "code",
   "execution_count": null,
   "metadata": {},
   "outputs": [],
   "source": [
    "properties = ['Temperature','Humidity','Pressure']\n",
    "subDir = \"cleaned.v0\"\n",
    "fileType = \".json\"\n",
    "report = \"\"\n",
    "# Dictionary of the columns appropirate for each propery\n",
    "propertyCols = {\n",
    "    'Temperature': [\"Temperature_F\",\"Heat_Index_F\"],\n",
    "    'Humidity': [\"Humidity_pct\",\"Dew_Point_F\"],\n",
    "    'Pressure': [\"Pressure_inHg\"]\n",
    "}\n",
    "\n",
    "# Columns required in all output (other than timestamp)\n",
    "keyCols = [\"Name\"]\n",
    "\n",
    "timestampCol = 'Timestamp'\n",
    "period = \"month\" # \"month\" | \"year\""
   ]
  },
  {
   "cell_type": "code",
   "execution_count": null,
   "metadata": {},
   "outputs": [],
   "source": [
    "for prop in properties:\n",
    "    path = \"../\"+prop+\"/\"+subDir+\"/\"\n",
    "\n",
    "    fileList = os.listdir(path)\n",
    "    dataFiles = []\n",
    "    for f in fileList:\n",
    "        if f.endswith(fileType):\n",
    "            dataFiles.append(f)\n",
    "\n",
    "    report = report+str(len(dataFiles))+\" \"+fileType+\" files in the \"+path+\" directory.\\n\\n\"\n",
    "    \n",
    "    print(\"Processing\",prop)\n",
    "    for d in dataFiles:\n",
    "        file = path+d\n",
    "        print(\"\\tProcessing\",file)\n",
    "        try:\n",
    "            with open(file) as df:\n",
    "                dataDF = pd.read_json(df,orient='table')     \n",
    "            print(\"Earliest date:\",dataDF[timestampCol].min())\n",
    "            print(\"Latest date:\",dataDF[timestampCol].max())\n",
    "            print(dataDF.info())\n",
    "            \n",
    "        except:\n",
    "            print(\"Unexpected error\")\n",
    "            raise\n",
    "\n",
    "            \n"
   ]
  },
  {
   "cell_type": "code",
   "execution_count": null,
   "metadata": {},
   "outputs": [],
   "source": [
    "print(report)"
   ]
  },
  {
   "cell_type": "code",
   "execution_count": null,
   "metadata": {},
   "outputs": [],
   "source": []
  }
 ],
 "metadata": {
  "kernelspec": {
   "display_name": "Python 3",
   "language": "python",
   "name": "python3"
  },
  "language_info": {
   "codemirror_mode": {
    "name": "ipython",
    "version": 3
   },
   "file_extension": ".py",
   "mimetype": "text/x-python",
   "name": "python",
   "nbconvert_exporter": "python",
   "pygments_lexer": "ipython3",
   "version": "3.7.4"
  }
 },
 "nbformat": 4,
 "nbformat_minor": 2
}
