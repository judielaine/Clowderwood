{
 "cells": [
  {
   "cell_type": "code",
   "execution_count": 2,
   "metadata": {
    "code_folding": [
     0
    ]
   },
   "outputs": [],
   "source": [
    "# import, etc\n",
    "import pandas as pd\n",
    "import math\n",
    "inputFile = \"../Raingauge.v1/2020-09-26-Rain gauge-raw form.csv\""
   ]
  },
  {
   "cell_type": "markdown",
   "metadata": {},
   "source": [
    "# Catching up with CoCoRaHS\n",
    "In 2020, for a number of reasons, i got out of the habit of recording to CoCoRaHS as well as my Airtable record. This notebook is to help me catch up in time to be included in the October summary calculations."
   ]
  },
  {
   "cell_type": "markdown",
   "metadata": {
    "heading_collapsed": true
   },
   "source": [
    "## Message re summary reports"
   ]
  },
  {
   "cell_type": "markdown",
   "metadata": {
    "hidden": true
   },
   "source": [
    "The end of the water year means we will be running new summary reports for every participating CoCoRaHS station.  Previous summaries for your station are found on your \"My Account\" page linked along the top-menu of our website (login required).  You can also look at other stations' water year summaries found in our 'View Data' page.  These summary data are the crown jewels of CoCoRaHS, so please make sure the data for your station is as complete and accurate as possible.  We will be running the first round of Water Year Summary reports around October 7.  Then we will wait a few weeks for all of us to catch up on entering any late or missing reports and/or to correct any errors we find in our data entries.  (A reminder - you can always review and edit your data from the links in the left-hand menu of your data entry page.)  We’ll then update the reports again around October 31.  These reports are \"static\" - meaning they do not update automatically when you add or edit data.  This is why we generate it once in early October and then again at the end of the month.  Even if you’ve only been part of CoCoRaHS for a part of the year, we will still do a thorough summary of your data.  Thanks so much for helping make this possible."
   ]
  },
  {
   "cell_type": "markdown",
   "metadata": {
    "heading_collapsed": true
   },
   "source": [
    "## Attempt to use iframe in notebook seems to fail"
   ]
  },
  {
   "cell_type": "markdown",
   "metadata": {
    "hidden": true
   },
   "source": [
    "<iframe class=\"airtable-embed\" src=\"https://airtable.com/embed/shr0qeDlQyZvvLDNt?backgroundColor=green&viewControls=on\" frameborder=\"0\" onmousewheel=\"\" width=\"100%\" height=\"533\" style=\"background: transparent; border: 1px solid #ccc;\"></iframe>"
   ]
  },
  {
   "cell_type": "markdown",
   "metadata": {
    "heading_collapsed": true
   },
   "source": [
    "## How can i spread out the work?"
   ]
  },
  {
   "cell_type": "markdown",
   "metadata": {
    "heading_collapsed": true,
    "hidden": true
   },
   "source": [
    "### Dataset 1\n",
    "- [ ] 2/29/2020 08:26        Dawn  clear & frosty. Observation overcast. \n",
    "- [ ] 3/1/2020 07:00    0.00   T  At 8:47 on the 29th graupel! Just a minute. then clearing.\n",
    "- [ ] 3/2/2020 07:00    0.00    \n",
    "- [ ] 3/3/2020 07:00    0.00    \n",
    "- [ ] 3/4/2020 08:30    0.22    \n",
    "- [ ] 3/6/2020 07:45    0.05    , 05 no frost 745am mostly cloudy\n",
    "- [ ] 3/7/2020 08:50        clear, windy\n",
    "- [ ] 8 & 9 - zeros\n",
    "- [ ] 8 & 9 - zeros"
   ]
  },
  {
   "cell_type": "markdown",
   "metadata": {
    "hidden": true
   },
   "source": [
    "### Remaining data"
   ]
  },
  {
   "cell_type": "code",
   "execution_count": null,
   "metadata": {
    "hidden": true
   },
   "outputs": [],
   "source": []
  },
  {
   "cell_type": "code",
   "execution_count": 13,
   "metadata": {
    "code_folding": [],
    "hidden": true
   },
   "outputs": [],
   "source": [
    "# How much needs to be reported?\n",
    "startDate = \"2020-03-11\" # have an entry in for 2020-03-10\n",
    "endDate = \"2020-09-26\"\n",
    "dataSet1 = 9\n",
    "dataSet1Start = \"2020-02-29\"\n",
    "dataSet1Stop = \"2020-03-09\"\n",
    "daysToReport = (pd.Timestamp(endDate) - pd.Timestamp(startDate)).days + dataSet1"
   ]
  },
  {
   "cell_type": "code",
   "execution_count": 15,
   "metadata": {
    "code_folding": [],
    "hidden": true
   },
   "outputs": [],
   "source": [
    "# How long do i have to get it done?\n",
    "beginDate = \"2020-09-26\"\n",
    "deadline = \"2020-10-06\"\n",
    "daysToWork = (pd.Timestamp(deadline) - pd.Timestamp(beginDate)).days"
   ]
  },
  {
   "cell_type": "code",
   "execution_count": 17,
   "metadata": {
    "code_folding": [],
    "hidden": true
   },
   "outputs": [],
   "source": [
    "# How to spread it evenly (and rounding up to integer days)\n",
    "entriesPerDay = math.ceil(daysToReport/daysToWork)"
   ]
  },
  {
   "cell_type": "code",
   "execution_count": 19,
   "metadata": {
    "code_folding": [],
    "hidden": true
   },
   "outputs": [
    {
     "name": "stdout",
     "output_type": "stream",
     "text": [
      "<class 'pandas.core.frame.DataFrame'>\n",
      "RangeIndex: 147 entries, 0 to 146\n",
      "Data columns (total 5 columns):\n",
      " #   Column       Non-Null Count  Dtype         \n",
      "---  ------       --------------  -----         \n",
      " 0   Observation  147 non-null    datetime64[ns]\n",
      " 1   precip (in)  141 non-null    float64       \n",
      " 2   Notes        119 non-null    object        \n",
      " 3   spilled      3 non-null      object        \n",
      " 4   Trace        6 non-null      object        \n",
      "dtypes: datetime64[ns](1), float64(1), object(3)\n",
      "memory usage: 5.9+ KB\n"
     ]
    }
   ],
   "source": [
    "# Read in the data & prepare\n",
    "with open(inputFile) as f:\n",
    "    sourceDF = pd.read_csv(f)\n",
    "# convert Observation to datetime\n",
    "sourceDF['Observation'] = pd.to_datetime(sourceDF['Observation'])\n",
    "# Limit the columns in the dataframe to those required\n",
    "sourceDF = sourceDF[['Observation',\"precip (in)\",\"Notes\",\"spilled\" ,\"Trace\"]]\n",
    "sourceDF.info()"
   ]
  },
  {
   "cell_type": "markdown",
   "metadata": {
    "hidden": true
   },
   "source": [
    "There are {{len(sourceDF[sourceDF['Trace'].notna()])}} records of Trace amounts. (NaN vs \"checked\")\n",
    "\n",
    "There are {{len(sourceDF[sourceDF['spilled'].notna()])}} records of spilled amounts. (NaN vs \"checked\")\n",
    "\n",
    "So those fields are necessary in for reporting"
   ]
  },
  {
   "cell_type": "code",
   "execution_count": 22,
   "metadata": {
    "code_folding": [],
    "hidden": true
   },
   "outputs": [],
   "source": [
    "# Develop the task dictionary\n",
    "taskDict = {}"
   ]
  },
  {
   "cell_type": "markdown",
   "metadata": {
    "hidden": true
   },
   "source": [
    "To get done in time, {{entriesPerDay}} entries per set for {{daysToWork}} sets.  \n",
    "\n",
    "Data Set 1 has {{dataSet1}} entries. So, the first set is Data Set 1 plus {{startDate}}  and {{entriesPerDay - dataSet1}} more report days. \n",
    "\n",
    "The following have {{entriesPerDay}} days per set."
   ]
  },
  {
   "cell_type": "code",
   "execution_count": 25,
   "metadata": {
    "code_folding": [],
    "hidden": true
   },
   "outputs": [],
   "source": [
    "# Day 1 \n",
    "i = 1\n",
    "taskDict[i] = {}\n",
    "taskDict[i]['startDate'] = pd.Timestamp(dataSet1Start)\n",
    "taskDict[i]['endDate'] = pd.Timestamp(startDate) + pd.Timedelta((entriesPerDay - dataSet1),'days')\n",
    "\n",
    "# Two dataframes, concatenated:\n",
    "sTS = pd.Timestamp(dataSet1Start)\n",
    "eTS = pd.Timestamp(dataSet1Stop)\n",
    "mask = (sourceDF['Observation'] >= sTS ) & (sourceDF['Observation'] <= eTS)\n",
    "aDF = sourceDF.loc[mask]\n",
    "\n",
    "sTS = pd.Timestamp(startDate)\n",
    "eTS = taskDict[i]['endDate']\n",
    "mask = (sourceDF['Observation'] >= sTS ) & (sourceDF['Observation'] <= eTS)\n",
    "bDF = sourceDF.loc[mask]\n",
    "\n",
    "\n",
    "taskDict[i]['DF'] = pd.concat([aDF,bDF])\n"
   ]
  },
  {
   "cell_type": "markdown",
   "metadata": {
    "hidden": true
   },
   "source": [
    "{{taskDict[i]['startDate']}} to {{taskDict[i]['endDate']}}"
   ]
  },
  {
   "cell_type": "code",
   "execution_count": 28,
   "metadata": {
    "code_folding": [],
    "hidden": true
   },
   "outputs": [],
   "source": [
    "# Days 2 through end\n",
    "i = 2\n",
    "\n",
    "while i <= daysToWork:\n",
    "    taskDict[i] = {}\n",
    "    taskDict[i]['startDate'] = taskDict[i-1]['endDate'] + pd.Timedelta(1,'days')\n",
    "    taskDict[i]['endDate'] = taskDict[i]['startDate'] + pd.Timedelta((entriesPerDay),'days')\n",
    "    \n",
    "    sTS = taskDict[i]['startDate']\n",
    "    eTS = taskDict[i]['endDate'] + pd.Timedelta(5,'days')\n",
    "    mask = (sourceDF['Observation'] >= sTS ) & (sourceDF['Observation'] <= eTS)\n",
    "    sourceDF.loc[mask]\n",
    "    i += 1"
   ]
  },
  {
   "cell_type": "code",
   "execution_count": null,
   "metadata": {
    "hidden": true
   },
   "outputs": [],
   "source": []
  },
  {
   "cell_type": "code",
   "execution_count": 31,
   "metadata": {
    "hidden": true
   },
   "outputs": [
    {
     "name": "stdout",
     "output_type": "stream",
     "text": [
      "2020-02-29 00:00:00\n",
      "2020-03-23 00:00:00\n"
     ]
    },
    {
     "data": {
      "text/html": [
       "<div>\n",
       "<style scoped>\n",
       "    .dataframe tbody tr th:only-of-type {\n",
       "        vertical-align: middle;\n",
       "    }\n",
       "\n",
       "    .dataframe tbody tr th {\n",
       "        vertical-align: top;\n",
       "    }\n",
       "\n",
       "    .dataframe thead th {\n",
       "        text-align: right;\n",
       "    }\n",
       "</style>\n",
       "<table border=\"1\" class=\"dataframe\">\n",
       "  <thead>\n",
       "    <tr style=\"text-align: right;\">\n",
       "      <th></th>\n",
       "      <th>Observation</th>\n",
       "      <th>precip (in)</th>\n",
       "      <th>Notes</th>\n",
       "      <th>spilled</th>\n",
       "      <th>Trace</th>\n",
       "    </tr>\n",
       "  </thead>\n",
       "  <tbody>\n",
       "    <tr>\n",
       "      <th>46</th>\n",
       "      <td>2020-02-29 08:26:00</td>\n",
       "      <td>NaN</td>\n",
       "      <td>Dawn  clear &amp; frosty. Observation overcast. At...</td>\n",
       "      <td>NaN</td>\n",
       "      <td>checked</td>\n",
       "    </tr>\n",
       "    <tr>\n",
       "      <th>47</th>\n",
       "      <td>2020-03-01 07:00:00</td>\n",
       "      <td>0.00</td>\n",
       "      <td>NaN</td>\n",
       "      <td>NaN</td>\n",
       "      <td>NaN</td>\n",
       "    </tr>\n",
       "    <tr>\n",
       "      <th>48</th>\n",
       "      <td>2020-03-02 07:00:00</td>\n",
       "      <td>0.00</td>\n",
       "      <td>NaN</td>\n",
       "      <td>NaN</td>\n",
       "      <td>NaN</td>\n",
       "    </tr>\n",
       "    <tr>\n",
       "      <th>49</th>\n",
       "      <td>2020-03-03 07:00:00</td>\n",
       "      <td>0.00</td>\n",
       "      <td>NaN</td>\n",
       "      <td>NaN</td>\n",
       "      <td>NaN</td>\n",
       "    </tr>\n",
       "    <tr>\n",
       "      <th>50</th>\n",
       "      <td>2020-03-04 08:30:00</td>\n",
       "      <td>0.22</td>\n",
       "      <td>NaN</td>\n",
       "      <td>NaN</td>\n",
       "      <td>NaN</td>\n",
       "    </tr>\n",
       "    <tr>\n",
       "      <th>51</th>\n",
       "      <td>2020-03-06 07:45:00</td>\n",
       "      <td>0.05</td>\n",
       "      <td>, 05 no frost 745am mostly cloudy</td>\n",
       "      <td>NaN</td>\n",
       "      <td>NaN</td>\n",
       "    </tr>\n",
       "    <tr>\n",
       "      <th>52</th>\n",
       "      <td>2020-03-07 08:50:00</td>\n",
       "      <td>NaN</td>\n",
       "      <td>clear, windy</td>\n",
       "      <td>NaN</td>\n",
       "      <td>checked</td>\n",
       "    </tr>\n",
       "    <tr>\n",
       "      <th>53</th>\n",
       "      <td>2020-03-10 08:15:00</td>\n",
       "      <td>0.00</td>\n",
       "      <td>Overcast &amp; glum (cocorhas done)</td>\n",
       "      <td>NaN</td>\n",
       "      <td>NaN</td>\n",
       "    </tr>\n",
       "    <tr>\n",
       "      <th>54</th>\n",
       "      <td>2020-03-11 08:00:00</td>\n",
       "      <td>0.02</td>\n",
       "      <td>soft morning. no frost</td>\n",
       "      <td>NaN</td>\n",
       "      <td>NaN</td>\n",
       "    </tr>\n",
       "    <tr>\n",
       "      <th>55</th>\n",
       "      <td>2020-03-16 08:30:00</td>\n",
       "      <td>0.05</td>\n",
       "      <td>MULTIDAY -- and mainly the first day in the mu...</td>\n",
       "      <td>NaN</td>\n",
       "      <td>NaN</td>\n",
       "    </tr>\n",
       "    <tr>\n",
       "      <th>56</th>\n",
       "      <td>2020-03-19 08:10:00</td>\n",
       "      <td>0.06</td>\n",
       "      <td>.02 some time  before; .04 this morning</td>\n",
       "      <td>NaN</td>\n",
       "      <td>NaN</td>\n",
       "    </tr>\n",
       "    <tr>\n",
       "      <th>57</th>\n",
       "      <td>2020-03-21 09:00:00</td>\n",
       "      <td>0.04</td>\n",
       "      <td>NaN</td>\n",
       "      <td>NaN</td>\n",
       "      <td>NaN</td>\n",
       "    </tr>\n",
       "    <tr>\n",
       "      <th>58</th>\n",
       "      <td>2020-03-22 09:00:00</td>\n",
       "      <td>0.16</td>\n",
       "      <td>NaN</td>\n",
       "      <td>NaN</td>\n",
       "      <td>NaN</td>\n",
       "    </tr>\n",
       "    <tr>\n",
       "      <th>59</th>\n",
       "      <td>2020-03-24 08:30:00</td>\n",
       "      <td>0.41</td>\n",
       "      <td>NaN</td>\n",
       "      <td>NaN</td>\n",
       "      <td>NaN</td>\n",
       "    </tr>\n",
       "    <tr>\n",
       "      <th>60</th>\n",
       "      <td>2020-03-25 08:14:00</td>\n",
       "      <td>1.10</td>\n",
       "      <td>, 88+. 22</td>\n",
       "      <td>NaN</td>\n",
       "      <td>NaN</td>\n",
       "    </tr>\n",
       "    <tr>\n",
       "      <th>61</th>\n",
       "      <td>2020-03-26 08:30:00</td>\n",
       "      <td>0.00</td>\n",
       "      <td>NaN</td>\n",
       "      <td>NaN</td>\n",
       "      <td>checked</td>\n",
       "    </tr>\n",
       "  </tbody>\n",
       "</table>\n",
       "</div>"
      ],
      "text/plain": [
       "           Observation  precip (in)  \\\n",
       "46 2020-02-29 08:26:00          NaN   \n",
       "47 2020-03-01 07:00:00         0.00   \n",
       "48 2020-03-02 07:00:00         0.00   \n",
       "49 2020-03-03 07:00:00         0.00   \n",
       "50 2020-03-04 08:30:00         0.22   \n",
       "51 2020-03-06 07:45:00         0.05   \n",
       "52 2020-03-07 08:50:00          NaN   \n",
       "53 2020-03-10 08:15:00         0.00   \n",
       "54 2020-03-11 08:00:00         0.02   \n",
       "55 2020-03-16 08:30:00         0.05   \n",
       "56 2020-03-19 08:10:00         0.06   \n",
       "57 2020-03-21 09:00:00         0.04   \n",
       "58 2020-03-22 09:00:00         0.16   \n",
       "59 2020-03-24 08:30:00         0.41   \n",
       "60 2020-03-25 08:14:00         1.10   \n",
       "61 2020-03-26 08:30:00         0.00   \n",
       "\n",
       "                                                Notes spilled    Trace  \n",
       "46  Dawn  clear & frosty. Observation overcast. At...     NaN  checked  \n",
       "47                                                NaN     NaN      NaN  \n",
       "48                                                NaN     NaN      NaN  \n",
       "49                                                NaN     NaN      NaN  \n",
       "50                                                NaN     NaN      NaN  \n",
       "51                  , 05 no frost 745am mostly cloudy     NaN      NaN  \n",
       "52                                       clear, windy     NaN  checked  \n",
       "53                    Overcast & glum (cocorhas done)     NaN      NaN  \n",
       "54                             soft morning. no frost     NaN      NaN  \n",
       "55  MULTIDAY -- and mainly the first day in the mu...     NaN      NaN  \n",
       "56            .02 some time  before; .04 this morning     NaN      NaN  \n",
       "57                                                NaN     NaN      NaN  \n",
       "58                                                NaN     NaN      NaN  \n",
       "59                                                NaN     NaN      NaN  \n",
       "60                                          , 88+. 22     NaN      NaN  \n",
       "61                                                NaN     NaN  checked  "
      ]
     },
     "execution_count": 31,
     "metadata": {},
     "output_type": "execute_result"
    }
   ],
   "source": [
    "i = 1\n",
    "print(taskDict[i]['startDate'])\n",
    "print(taskDict[i]['endDate'])\n",
    "# ValueError: index must be monotonic increasing or decreasing\n",
    "# sourceDF.loc[taskDict[i]['startDate']:taskDict[i]['endDate']]\n",
    "\n",
    "#greater than the start date and smaller than the end date\n",
    "sTS = taskDict[i]['startDate']\n",
    "eTS = taskDict[i]['endDate'] + pd.Timedelta(5,'days')\n",
    "mask = (sourceDF['Observation'] >= sTS ) & (sourceDF['Observation'] <= eTS)\n",
    "sourceDF.loc[mask]"
   ]
  },
  {
   "cell_type": "code",
   "execution_count": 33,
   "metadata": {
    "hidden": true
   },
   "outputs": [],
   "source": [
    "a = pd.Period(startDate, 'D')\n",
    "b = pd.Period(endDate,'D')\n",
    "daily = pd.period_range(start=a, end=b, freq='D')"
   ]
  },
  {
   "cell_type": "code",
   "execution_count": 35,
   "metadata": {
    "hidden": true
   },
   "outputs": [
    {
     "data": {
      "text/html": [
       "<div>\n",
       "<style scoped>\n",
       "    .dataframe tbody tr th:only-of-type {\n",
       "        vertical-align: middle;\n",
       "    }\n",
       "\n",
       "    .dataframe tbody tr th {\n",
       "        vertical-align: top;\n",
       "    }\n",
       "\n",
       "    .dataframe thead th {\n",
       "        text-align: right;\n",
       "    }\n",
       "</style>\n",
       "<table border=\"1\" class=\"dataframe\">\n",
       "  <thead>\n",
       "    <tr style=\"text-align: right;\">\n",
       "      <th></th>\n",
       "      <th>Observation</th>\n",
       "      <th>precip (in)</th>\n",
       "      <th>Notes</th>\n",
       "      <th>spilled</th>\n",
       "      <th>Trace</th>\n",
       "    </tr>\n",
       "    <tr>\n",
       "      <th>Observation</th>\n",
       "      <th></th>\n",
       "      <th></th>\n",
       "      <th></th>\n",
       "      <th></th>\n",
       "      <th></th>\n",
       "    </tr>\n",
       "  </thead>\n",
       "  <tbody>\n",
       "    <tr>\n",
       "      <th>2020-01-01</th>\n",
       "      <td>1</td>\n",
       "      <td>1</td>\n",
       "      <td>1</td>\n",
       "      <td>0</td>\n",
       "      <td>0</td>\n",
       "    </tr>\n",
       "    <tr>\n",
       "      <th>2020-01-02</th>\n",
       "      <td>1</td>\n",
       "      <td>1</td>\n",
       "      <td>1</td>\n",
       "      <td>0</td>\n",
       "      <td>0</td>\n",
       "    </tr>\n",
       "    <tr>\n",
       "      <th>2020-01-03</th>\n",
       "      <td>1</td>\n",
       "      <td>1</td>\n",
       "      <td>0</td>\n",
       "      <td>0</td>\n",
       "      <td>0</td>\n",
       "    </tr>\n",
       "    <tr>\n",
       "      <th>2020-01-04</th>\n",
       "      <td>1</td>\n",
       "      <td>1</td>\n",
       "      <td>1</td>\n",
       "      <td>0</td>\n",
       "      <td>0</td>\n",
       "    </tr>\n",
       "    <tr>\n",
       "      <th>2020-01-05</th>\n",
       "      <td>1</td>\n",
       "      <td>1</td>\n",
       "      <td>1</td>\n",
       "      <td>0</td>\n",
       "      <td>0</td>\n",
       "    </tr>\n",
       "    <tr>\n",
       "      <th>...</th>\n",
       "      <td>...</td>\n",
       "      <td>...</td>\n",
       "      <td>...</td>\n",
       "      <td>...</td>\n",
       "      <td>...</td>\n",
       "    </tr>\n",
       "    <tr>\n",
       "      <th>2020-09-18</th>\n",
       "      <td>1</td>\n",
       "      <td>1</td>\n",
       "      <td>1</td>\n",
       "      <td>0</td>\n",
       "      <td>0</td>\n",
       "    </tr>\n",
       "    <tr>\n",
       "      <th>2020-09-19</th>\n",
       "      <td>1</td>\n",
       "      <td>1</td>\n",
       "      <td>1</td>\n",
       "      <td>0</td>\n",
       "      <td>0</td>\n",
       "    </tr>\n",
       "    <tr>\n",
       "      <th>2020-09-23</th>\n",
       "      <td>1</td>\n",
       "      <td>1</td>\n",
       "      <td>1</td>\n",
       "      <td>0</td>\n",
       "      <td>0</td>\n",
       "    </tr>\n",
       "    <tr>\n",
       "      <th>2020-09-25</th>\n",
       "      <td>1</td>\n",
       "      <td>1</td>\n",
       "      <td>1</td>\n",
       "      <td>0</td>\n",
       "      <td>0</td>\n",
       "    </tr>\n",
       "    <tr>\n",
       "      <th>2020-09-26</th>\n",
       "      <td>1</td>\n",
       "      <td>1</td>\n",
       "      <td>1</td>\n",
       "      <td>0</td>\n",
       "      <td>0</td>\n",
       "    </tr>\n",
       "  </tbody>\n",
       "</table>\n",
       "<p>147 rows × 5 columns</p>\n",
       "</div>"
      ],
      "text/plain": [
       "             Observation  precip (in)  Notes  spilled  Trace\n",
       "Observation                                                 \n",
       "2020-01-01             1            1      1        0      0\n",
       "2020-01-02             1            1      1        0      0\n",
       "2020-01-03             1            1      0        0      0\n",
       "2020-01-04             1            1      1        0      0\n",
       "2020-01-05             1            1      1        0      0\n",
       "...                  ...          ...    ...      ...    ...\n",
       "2020-09-18             1            1      1        0      0\n",
       "2020-09-19             1            1      1        0      0\n",
       "2020-09-23             1            1      1        0      0\n",
       "2020-09-25             1            1      1        0      0\n",
       "2020-09-26             1            1      1        0      0\n",
       "\n",
       "[147 rows x 5 columns]"
      ]
     },
     "execution_count": 35,
     "metadata": {},
     "output_type": "execute_result"
    }
   ],
   "source": [
    "tempDF = sourceDF\n",
    "tempDF= tempDF.set_index('Observation',drop=False)\n",
    "tempDF.groupby(tempDF.index.to_period('D')).count()"
   ]
  },
  {
   "cell_type": "markdown",
   "metadata": {},
   "source": [
    "## Well, that's not so helpful\n",
    "\n",
    "I can't figure out how to identify missing days or when multiday reports are needed,"
   ]
  },
  {
   "cell_type": "code",
   "execution_count": null,
   "metadata": {},
   "outputs": [],
   "source": []
  }
 ],
 "metadata": {
  "kernelspec": {
   "display_name": "Python 3 (ipykernel)",
   "language": "python",
   "name": "python3"
  },
  "language_info": {
   "codemirror_mode": {
    "name": "ipython",
    "version": 3
   },
   "file_extension": ".py",
   "mimetype": "text/x-python",
   "name": "python",
   "nbconvert_exporter": "python",
   "pygments_lexer": "ipython3",
   "version": "3.11.7"
  }
 },
 "nbformat": 4,
 "nbformat_minor": 4
}
