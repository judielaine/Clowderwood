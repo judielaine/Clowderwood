{
 "cells": [
  {
   "cell_type": "markdown",
   "id": "525af8a2",
   "metadata": {},
   "source": [
    "# CSV processing for import into airtable perennial and vendor fields\n",
    "\n",
    "See [reference doc](./perennials-louisiana-iris.md).\n",
    "\n",
    "## Clean up from resarch on Louisiana irises August 2025\n",
    "\n",
    "Found Claude and Gemini both struggled to keep the csv clean on edits, filling empty values with speculative values."
   ]
  },
  {
   "cell_type": "code",
   "execution_count": 1,
   "id": "08fcda1a",
   "metadata": {},
   "outputs": [],
   "source": [
    "import pandas as pd\n"
   ]
  },
  {
   "cell_type": "code",
   "execution_count": 2,
   "id": "2a863d3c",
   "metadata": {},
   "outputs": [],
   "source": [
    "df = pd.read_csv('../../temp/louisiana-irises.csv')\n"
   ]
  },
  {
   "cell_type": "code",
   "execution_count": 3,
   "id": "886a8f37",
   "metadata": {},
   "outputs": [],
   "source": [
    "# Basic derived fields - had copiled the species level name into the column earlier\n",
    "df[\"Scientific name\"] = df[\"Scientific name\"].astype(str) + \" \" + df[\"Name\"].astype(str)\n",
    "\n",
    "df[\"Name\"] = df[\"Name\"].astype(str) + \" Louisiana iris\""
   ]
  },
  {
   "cell_type": "code",
   "execution_count": 4,
   "id": "794b62d3",
   "metadata": {},
   "outputs": [],
   "source": [
    "# Clean up fields \n",
    "\n",
    "# Replace empty fields with placeholder \"-\"\n",
    "for col in [\"Vigor\", 'Color class',\"Standards\", \"Falls\", \"Features\",\"Awards\"]:\n",
    "    df[col] = df[col].fillna('-')\n",
    "# Replace empty fields with empty string \"\"\n",
    "for col in [\"Additional growth\"]:\n",
    "    df[col] =df[col].fillna('')\n",
    "    \n",
    "# Ensure columns with strings ends with a period, except for '-' or ''\n",
    "for col in [\"Features\", \"Vigor\", \"Additional growth\" ]:\n",
    "    df[col] = df[col].astype(str).apply(lambda x: x if x in ['-', ''] else (x if x.endswith(\".\") else x + \".\"))\n",
    "# Ensure column strings begin with a capital letter.\n",
    "for col in [\"Vigor\", \"Additional growth\" ]:\n",
    "    df[col] = df[col].astype(str).apply(lambda x: x[0].upper() + x[1:] if len(x)>0 else x)\n",
    "for col in [\"Standards\", \"Falls\", \"Features\"]:\n",
    "    df[col] = df[col].astype(str).apply(lambda x: x[0].lower() + x[1:] if len(x)>0 else x)\n"
   ]
  },
  {
   "cell_type": "code",
   "execution_count": 5,
   "id": "120c3569",
   "metadata": {},
   "outputs": [],
   "source": [
    "# generate Note string from research fields\n",
    "\n",
    "# Full population:\n",
    "# {Vigor} {Additional growth}. [{Hybridizer}. R. {Release year}.] Color class-{'Color class'} \n",
    "#   Standards: {Standards}; falls: {Falls}; features: {Features}. Awards: {Awards}\n",
    "\n",
    "# In \"clean up fields\" section above, \n",
    "# * empty \"Vigor\" and 'Color class' are populated with \"-\"\n",
    "# * empty \"Additional growth\" is populated with \"\"\n",
    "\n",
    "\n",
    "# Hybridizer and release year string missing data adaptions\n",
    "# * if either is missing, only show the one that exists.\n",
    "# * if both are missing, Note contains placeholder \"[-]\"\n",
    "\n",
    "df[\"Hybridizer bracket\"] = df.apply(lambda row: f\"{row['Hybridizer']}. R. {row['Release year']}.\" if pd.notna(row['Hybridizer']) and pd.notna(row['Release year']) else (f\"{row['Hybridizer']}.\" if pd.notna(row['Hybridizer']) else (f\"R. {row['Release year']}.\" if pd.notna(row['Release year']) else \"-\")), axis=1)\n",
    "\n",
    "\n",
    "df[\"temp\"]=df[\"Vigor\"].astype(str)+ \" \"+ df[\"Additional growth\"].astype(str) + \" [\" + df[\"Hybridizer bracket\"].astype(str) + \"] \"\n",
    "df[\"temp\"]=df[\"temp\"].astype(str)+\" Color class-\"+ df[\"Color class\"].astype(str) + \" \"\n",
    "df[\"temp\"]=df[\"temp\"].astype(str)+\" Standards: \"+ df[\"Standards\"].astype(str) +\"; falls: \"+ df[\"Falls\"].astype(str) +\"; features: \"+ df[\"Features\"].astype(str)\n",
    "df[\"temp\"]=df[\"temp\"].astype(str)+\" Awards: \"+ df[\"Awards\"].astype(str) \n",
    "\n",
    "df[\"import note\"] = df[\"temp\"]"
   ]
  },
  {
   "cell_type": "code",
   "execution_count": 6,
   "id": "f6d427ec",
   "metadata": {},
   "outputs": [],
   "source": [
    "df[\"Code\"] = \"Interesting\"\n",
    "df[\"Plan code\"] = \"Iris import\"\n",
    "df[\"Use\"] = \"landscaping, rain garden\"\n",
    "df[\"Origin\"] = \"US - South\""
   ]
  },
  {
   "cell_type": "code",
   "execution_count": 7,
   "id": "6673dcd6",
   "metadata": {},
   "outputs": [
    {
     "data": {
      "text/plain": [
       "Index(['Name', 'Bloom time', 'Vigor', 'Scientific name', 'Genetics',\n",
       "       'Additional growth', 'Hybridizer', 'Release year', 'Color class',\n",
       "       'Standards', 'Falls', 'Features', 'Awards', 'Header', 'Flower',\n",
       "       'height (ft)', 'price', 'size', 'Vendor', 'Hybridizer bracket', 'temp',\n",
       "       'import note', 'Code', 'Plan code', 'Use', 'Origin'],\n",
       "      dtype='object')"
      ]
     },
     "execution_count": 7,
     "metadata": {},
     "output_type": "execute_result"
    }
   ],
   "source": [
    "df.columns"
   ]
  },
  {
   "cell_type": "code",
   "execution_count": 8,
   "id": "85ffa01a",
   "metadata": {},
   "outputs": [],
   "source": [
    "# generate final dataframes to export to temp/perennial.csv and temp/vendor-perennial.csv\n",
    "perennialDF = df[[\"Name\",  \"Code\", \"Plan code\", \"Genetics\", \"Scientific name\", \"Header\", \n",
    "                  \"height (ft)\",\"Bloom time\",\"Flower\",'Use','Origin',\"import note\"]]\n",
    "vendorDF = df[[\"Name\",\"Vendor\",'price', 'size']]\n",
    "vendorDF.columns = [\"Perennials\",\"Vendor\",'price', 'size']\n",
    "perennialDF.to_csv('../../temp/perennial.csv', index=False)\n",
    "vendorDF.to_csv('../../temp/vendor-perennial.csv', index=False) "
   ]
  },
  {
   "cell_type": "code",
   "execution_count": null,
   "id": "5cd6ed44",
   "metadata": {},
   "outputs": [],
   "source": []
  },
  {
   "cell_type": "code",
   "execution_count": null,
   "id": "42a1dddd",
   "metadata": {},
   "outputs": [],
   "source": []
  }
 ],
 "metadata": {
  "kernelspec": {
   "display_name": ".venv (3.12.9)",
   "language": "python",
   "name": "python3"
  },
  "language_info": {
   "codemirror_mode": {
    "name": "ipython",
    "version": 3
   },
   "file_extension": ".py",
   "mimetype": "text/x-python",
   "name": "python",
   "nbconvert_exporter": "python",
   "pygments_lexer": "ipython3",
   "version": "3.12.9"
  }
 },
 "nbformat": 4,
 "nbformat_minor": 5
}
